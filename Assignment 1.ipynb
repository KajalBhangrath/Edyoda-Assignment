{
 "cells": [
  {
   "cell_type": "markdown",
   "metadata": {},
   "source": [
    "# Assignment 1"
   ]
  },
  {
   "cell_type": "markdown",
   "metadata": {},
   "source": [
    "### Question 1"
   ]
  },
  {
   "cell_type": "code",
   "execution_count": 1,
   "metadata": {},
   "outputs": [
    {
     "name": "stdout",
     "output_type": "stream",
     "text": [
      "1 1 2 3 5 8 13 21 34 "
     ]
    }
   ],
   "source": [
    "'''\n",
    "Write a Python program to get the Fibonacci series between 0 to 50\n",
    "\n",
    "\n",
    "\n",
    "Note : The Fibonacci Sequence is the series of numbers :\n",
    "\n",
    "0, 1, 1, 2, 3, 5, 8, 13, 21, ....\n",
    "\n",
    "Every next number is found by adding up the two numbers before it.\n",
    "\n",
    "Expected Output : 1 1 2 3 5 8 13 21 34\n",
    "\n",
    "'''\n",
    "\n",
    "x=0\n",
    "y=1\n",
    "z=1\n",
    "\n",
    "while z < 51:\n",
    "    print(z,end=\" \")\n",
    "    z = x + y\n",
    "    x = y\n",
    "    y = z\n",
    "    if z > 51:\n",
    "        break\n",
    "    "
   ]
  },
  {
   "cell_type": "markdown",
   "metadata": {},
   "source": [
    "### Question 2"
   ]
  },
  {
   "cell_type": "code",
   "execution_count": 4,
   "metadata": {},
   "outputs": [
    {
     "name": "stdout",
     "output_type": "stream",
     "text": [
      "Edyoda\n",
      "adoydE"
     ]
    }
   ],
   "source": [
    "\n",
    "# Write a Python program that accepts a word from the user and reverse it.\n",
    "\n",
    "reversed_str=input(\"\")\n",
    "for i in range(len(reversed_str)-1,-1,-1):\n",
    "    print(reversed_str[i],end=\"\")"
   ]
  },
  {
   "cell_type": "markdown",
   "metadata": {},
   "source": [
    "### Question 3"
   ]
  },
  {
   "cell_type": "code",
   "execution_count": 7,
   "metadata": {},
   "outputs": [
    {
     "name": "stdout",
     "output_type": "stream",
     "text": [
      "Number of even numbers : 4\n",
      "Number of odd numbers : 5\n"
     ]
    }
   ],
   "source": [
    "# Write a Python program to count the number of even and odd numbers from a series of numbers.\n",
    "\n",
    "# Sample numbers : numbers = (1, 2, 3, 4, 5, 6, 7, 8, 9) \n",
    "\n",
    "# Expected Output :\n",
    "\n",
    "# Number of even numbers : 5\n",
    "\n",
    "# Number of odd numbers : 4\n",
    "\n",
    "count=0\n",
    "count1=0\n",
    "for i in (1, 2, 3, 4, 5, 6, 7, 8, 9):\n",
    "    if i%2==0:\n",
    "        count=count+1\n",
    "    else:\n",
    "        count1=count1+1\n",
    "print(\"Number of even numbers :\", count)\n",
    "print(\"Number of odd numbers :\", count1)\n"
   ]
  },
  {
   "cell_type": "code",
   "execution_count": null,
   "metadata": {},
   "outputs": [],
   "source": []
  }
 ],
 "metadata": {
  "kernelspec": {
   "display_name": "Python 3",
   "language": "python",
   "name": "python3"
  },
  "language_info": {
   "codemirror_mode": {
    "name": "ipython",
    "version": 3
   },
   "file_extension": ".py",
   "mimetype": "text/x-python",
   "name": "python",
   "nbconvert_exporter": "python",
   "pygments_lexer": "ipython3",
   "version": "3.8.5"
  }
 },
 "nbformat": 4,
 "nbformat_minor": 4
}
