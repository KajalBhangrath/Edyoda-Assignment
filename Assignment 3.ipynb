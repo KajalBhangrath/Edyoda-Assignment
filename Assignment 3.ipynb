{
 "cells": [
  {
   "cell_type": "markdown",
   "metadata": {},
   "source": [
    "### Assignment 3\n"
   ]
  },
  {
   "cell_type": "markdown",
   "metadata": {},
   "source": [
    "### Question 1"
   ]
  },
  {
   "cell_type": "code",
   "execution_count": 8,
   "metadata": {},
   "outputs": [
    {
     "data": {
      "text/plain": [
       "20"
      ]
     },
     "execution_count": 8,
     "metadata": {},
     "output_type": "execute_result"
    }
   ],
   "source": [
    "'''\n",
    "Write a Python function to sum all the numbers in a list.\n",
    "\n",
    "\n",
    "\n",
    "Sample List : (8, 2, 3, 0, 7)\n",
    "\n",
    "Expected Output : 20\n",
    "\n",
    "\n",
    "\n",
    "Explanation:\n",
    "\n",
    "\n",
    "\n",
    "Summation should like 8+2+3+0+7 = 20\n",
    "\n",
    "'''\n",
    "\n",
    "def summation():\n",
    "    my_list = [8,2,3,0,7]\n",
    "    sum1 = 0\n",
    "    for i in my_list:\n",
    "        sum1 = sum1 + i\n",
    "    return sum1\n",
    "summation()\n",
    "\n"
   ]
  },
  {
   "cell_type": "code",
   "execution_count": 9,
   "metadata": {},
   "outputs": [
    {
     "data": {
      "text/plain": [
       "15"
      ]
     },
     "execution_count": 9,
     "metadata": {},
     "output_type": "execute_result"
    }
   ],
   "source": [
    "## Alternate Solution for question 1: \n",
    "def summation1(*n):\n",
    "    sum1 = 0\n",
    "    for i in n:\n",
    "        sum1 = sum1 + i\n",
    "    return sum1\n",
    "summation1(1,2,3,9)\n"
   ]
  },
  {
   "cell_type": "markdown",
   "metadata": {},
   "source": [
    "### Question 2"
   ]
  },
  {
   "cell_type": "code",
   "execution_count": 12,
   "metadata": {},
   "outputs": [
    {
     "name": "stdout",
     "output_type": "stream",
     "text": [
      "dcba4321"
     ]
    }
   ],
   "source": [
    "\n",
    "# Write a Python program to reverse a string.\n",
    "\n",
    "#Sample String : \"1234abcd\"\n",
    "\n",
    "#Expected Output : \"dcba4321\"\n",
    "\n",
    "def reverse():\n",
    "    string = '1234abcd'\n",
    "    for i in range(len(string)-1,-1,-1):\n",
    "        print(string[i],end='')\n",
    "reverse()"
   ]
  },
  {
   "cell_type": "code",
   "execution_count": 17,
   "metadata": {},
   "outputs": [
    {
     "name": "stdout",
     "output_type": "stream",
     "text": [
      "Edyoda\n",
      "adoydE"
     ]
    }
   ],
   "source": [
    "## Alternate Solution for question 2: \n",
    "\n",
    "def reverse1():\n",
    "    string = input('')\n",
    "    for i in range(len(string)-1,-1,-1):\n",
    "        print(string[i],end='')\n",
    "reverse1()\n"
   ]
  },
  {
   "cell_type": "markdown",
   "metadata": {},
   "source": [
    "### Question 3"
   ]
  },
  {
   "cell_type": "code",
   "execution_count": 14,
   "metadata": {},
   "outputs": [
    {
     "name": "stdout",
     "output_type": "stream",
     "text": [
      "3\n",
      "12\n"
     ]
    }
   ],
   "source": [
    "# Write a Python function that accepts a string and calculate the number of upper case letters and lower case letters.\n",
    "\n",
    "# Sample String : 'The quick Brow Fox'\n",
    "\n",
    "# Expected Output :\n",
    "\n",
    "# No. of Upper case characters : 3\n",
    "\n",
    "# No. of Lower case Characters : 12\n",
    "\n",
    "def string():\n",
    "    my_string='The quick Brow Fox'\n",
    "    count=0\n",
    "    count1=0\n",
    "    for i in my_string:\n",
    "        if i.isupper():\n",
    "            count=count+1\n",
    "        if i.islower():\n",
    "            count1=count1+1\n",
    "    print(count)\n",
    "    print(count1)\n",
    "string()"
   ]
  },
  {
   "cell_type": "code",
   "execution_count": null,
   "metadata": {},
   "outputs": [],
   "source": []
  }
 ],
 "metadata": {
  "kernelspec": {
   "display_name": "Python 3",
   "language": "python",
   "name": "python3"
  },
  "language_info": {
   "codemirror_mode": {
    "name": "ipython",
    "version": 3
   },
   "file_extension": ".py",
   "mimetype": "text/x-python",
   "name": "python",
   "nbconvert_exporter": "python",
   "pygments_lexer": "ipython3",
   "version": "3.8.5"
  }
 },
 "nbformat": 4,
 "nbformat_minor": 4
}
